{
 "cells": [
  {
   "cell_type": "code",
   "execution_count": 1,
   "metadata": {},
   "outputs": [],
   "source": [
    "import pandas as pd\n",
    "import numpy as np\n",
    "import matplotlib.pyplot as plt\n",
    "from sklearn.linear_model import LinearRegression\n",
    "from sklearn.model_selection import train_test_split\n",
    "from sklearn.metrics import mean_absolute_error\n",
    "from sklearn.ensemble import RandomForestRegressor, GradientBoostingRegressor\n",
    "from sklearn.preprocessing import MaxAbsScaler\n",
    "from sklearn.feature_selection import RFE, SelectFromModel\n",
    "from scipy import stats"
   ]
  },
  {
   "cell_type": "code",
   "execution_count": 59,
   "metadata": {},
   "outputs": [],
   "source": [
    "testSetSize = 0.25 #percentage of total set, same as paper\n",
    "k = 2 # for K-fold cross-validation\n",
    "linear = LinearRegression()\n",
    "GB = GradientBoostingRegressor()\n",
    "RF = RandomForestRegressor()\n",
    "moddels = [('Linear',linear,RFE(linear)),\n",
    "          ('Gradient Boosting', GB, SelectFromModel(GB,'mean')),\n",
    "          ('Random Forests',RF,SelectFromModel(RF,'mean'))]"
   ]
  },
  {
   "cell_type": "code",
   "execution_count": 60,
   "metadata": {},
   "outputs": [],
   "source": [
    "# Load and clean the data\n",
    "data = pd.read_csv(\"../data/energydata_complete.csv\").dropna(how='any')\n",
    "\n",
    "#Cast for correct indxing\n",
    "data['date'] = pd.to_datetime(data['date'])\n",
    "data.set_index('date',inplace = True)\n",
    "\n",
    "# Make sure everything has the correct type\n",
    "data = data.astype(np.float64)\n",
    "y = data['Appliances']\n",
    "X = data.drop(['Appliances'],axis=1)\n",
    "\n",
    "# Seperate data into test and training sets\n",
    "X_train, X_test, y_train, y_test = train_test_split(X, y, test_size=testSetSize,shuffle=True)\n"
   ]
  },
  {
   "cell_type": "code",
   "execution_count": 61,
   "metadata": {},
   "outputs": [],
   "source": [
    "resultColumns = ['Algorithm','Feature set','MAE']\n",
    "results = pd.DataFrame(columns=resultColumns)\n",
    "\n",
    "scaler = MaxAbsScaler()\n",
    "scaler.fit(X_train)\n",
    "X_train = scaler.transform(X_train)\n",
    "X_test = scaler.transform(X_test)\n",
    "\n",
    "for name, model,selector in moddels:\n",
    "    model.fit(X_train,y_train)\n",
    "    acc = mean_absolute_error(y_test,model.predict(X_test))\n",
    "    results.loc[len(results)] = pd.Series({'Algorithm':name,\n",
    "                         'MAE':acc,\n",
    "                         'Feature set' : 'full'})\n",
    "\n",
    "    X_train_reduced = selector.fit_transform(X_train,y_train)\n",
    "    X_test_reduced = selector.transform(X_test)\n",
    "\n",
    "    model.fit(X_train_reduced,y_train)\n",
    "    acc = mean_absolute_error(y_test,model.predict(X_test_reduced))\n",
    "    results.loc[len(results)] = pd.Series({'Algorithm':name,\n",
    "                         'MAE':acc,\n",
    "                         'Feature set' : 'reduced'})\n",
    "        \n",
    "        "
   ]
  },
  {
   "cell_type": "code",
   "execution_count": 62,
   "metadata": {},
   "outputs": [
    {
     "data": {
      "text/html": [
       "<div>\n",
       "<style>\n",
       "    .dataframe thead tr:only-child th {\n",
       "        text-align: right;\n",
       "    }\n",
       "\n",
       "    .dataframe thead th {\n",
       "        text-align: left;\n",
       "    }\n",
       "\n",
       "    .dataframe tbody tr th {\n",
       "        vertical-align: top;\n",
       "    }\n",
       "</style>\n",
       "<table border=\"1\" class=\"dataframe\">\n",
       "  <thead>\n",
       "    <tr style=\"text-align: right;\">\n",
       "      <th></th>\n",
       "      <th>Algorithm</th>\n",
       "      <th>Feature set</th>\n",
       "      <th>MAE</th>\n",
       "    </tr>\n",
       "  </thead>\n",
       "  <tbody>\n",
       "    <tr>\n",
       "      <th>4</th>\n",
       "      <td>Random Forests</td>\n",
       "      <td>full</td>\n",
       "      <td>38.261046</td>\n",
       "    </tr>\n",
       "    <tr>\n",
       "      <th>5</th>\n",
       "      <td>Random Forests</td>\n",
       "      <td>reduced</td>\n",
       "      <td>38.340495</td>\n",
       "    </tr>\n",
       "    <tr>\n",
       "      <th>2</th>\n",
       "      <td>Gradient Boosting</td>\n",
       "      <td>full</td>\n",
       "      <td>47.994745</td>\n",
       "    </tr>\n",
       "    <tr>\n",
       "      <th>3</th>\n",
       "      <td>Gradient Boosting</td>\n",
       "      <td>reduced</td>\n",
       "      <td>48.965706</td>\n",
       "    </tr>\n",
       "    <tr>\n",
       "      <th>0</th>\n",
       "      <td>Linear</td>\n",
       "      <td>full</td>\n",
       "      <td>53.339191</td>\n",
       "    </tr>\n",
       "    <tr>\n",
       "      <th>1</th>\n",
       "      <td>Linear</td>\n",
       "      <td>reduced</td>\n",
       "      <td>53.696722</td>\n",
       "    </tr>\n",
       "  </tbody>\n",
       "</table>\n",
       "</div>"
      ],
      "text/plain": [
       "           Algorithm Feature set        MAE\n",
       "4     Random Forests        full  38.261046\n",
       "5     Random Forests     reduced  38.340495\n",
       "2  Gradient Boosting        full  47.994745\n",
       "3  Gradient Boosting     reduced  48.965706\n",
       "0             Linear        full  53.339191\n",
       "1             Linear     reduced  53.696722"
      ]
     },
     "execution_count": 62,
     "metadata": {},
     "output_type": "execute_result"
    }
   ],
   "source": [
    "results.sort_values('MAE')\n",
    "# print(results.sort_values('MAE').to_latex())"
   ]
  },
  {
   "cell_type": "code",
   "execution_count": 68,
   "metadata": {},
   "outputs": [
    {
     "name": "stdout",
     "output_type": "stream",
     "text": [
      "total number of features:  27\n",
      "Index(['lights', 'RH_1', 'RH_2', 'T3', 'RH_3', 'RH_5', 'T8', 'RH_8',\n",
      "       'Press_mm_hg', 'RH_out'],\n",
      "      dtype='object')\n"
     ]
    }
   ],
   "source": [
    "print('total number of features: ', X.shape[1])\n",
    "\n",
    "RF = RandomForestRegressor()\n",
    "RFSelector = SelectFromModel(RF,'mean')\n",
    "RF.fit(X_train,y_train)\n",
    "RFSelector.fit(X_train,y_train)\n",
    "\n",
    "# which features perform well enough to keep?\n",
    "print(X.loc[:,RFSelector.get_support()].columns)"
   ]
  },
  {
   "cell_type": "code",
   "execution_count": 65,
   "metadata": {},
   "outputs": [
    {
     "data": {
      "image/png": "[encoded data removed]",
      "text/plain": [
       "<matplotlib.figure.Figure at 0x2921f0df358>"
      ]
     },
     "metadata": {},
     "output_type": "display_data"
    }
   ],
   "source": [
    "plt.bar(range(len(RF.feature_importances_)),RF.feature_importances_)\n",
    "plt.axhline(y= RF.feature_importances_.mean(), hold=None, ls=\"dashed\", color=\"black\")\n",
    "plt.text(x=25,y=RF.feature_importances_.mean()+0.001, s=\"mean\", color=\"black\")\n",
    "plt.title(\"Relative feature importance\")\n",
    "plt.xlabel(\"Features\")\n",
    "plt.ylabel(\"Feature importance\")\n",
    "plt.show()\n",
    "# "
   ]
  },
  {
   "cell_type": "code",
   "execution_count": null,
   "metadata": {},
   "outputs": [],
   "source": []
  }
 ],
 "metadata": {
  "kernelspec": {
   "display_name": "Python 3",
   "language": "python",
   "name": "python3"
  },
  "language_info": {
   "codemirror_mode": {
    "name": "ipython",
    "version": 3
   },
   "file_extension": ".py",
   "mimetype": "text/x-python",
   "name": "python",
   "nbconvert_exporter": "python",
   "pygments_lexer": "ipython3",
   "version": "3.6.3"
  }
 },
 "nbformat": 4,
 "nbformat_minor": 2
}
